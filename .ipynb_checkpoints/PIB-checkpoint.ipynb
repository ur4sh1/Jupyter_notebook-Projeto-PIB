{
 "cells": [
  {
   "cell_type": "markdown",
   "metadata": {},
   "source": [
    "<h1><b>PIB Amazonas 2010</b></h1>"
   ]
  },
  {
   "cell_type": "code",
   "execution_count": 104,
   "metadata": {},
   "outputs": [],
   "source": [
    "import pandas as pd\n",
    "import numpy as np\n",
    "import matplotlib.pyplot as plt"
   ]
  },
  {
   "cell_type": "code",
   "execution_count": 11,
   "metadata": {},
   "outputs": [],
   "source": [
    "pib = pd.read_csv('vw_pib_percapita.csv')"
   ]
  },
  {
   "cell_type": "markdown",
   "metadata": {},
   "source": [
    "<h2><b>Detalhes e tempo de execução da lista 'pib'</b></h2>"
   ]
  },
  {
   "cell_type": "code",
   "execution_count": 101,
   "metadata": {},
   "outputs": [
    {
     "name": "stdout",
     "output_type": "stream",
     "text": [
      "31.5 µs ± 2.33 µs per loop (mean ± std. dev. of 7 runs, 10000 loops each)\n"
     ]
    }
   ],
   "source": [
    "%%timeit\n",
    "pib.head()"
   ]
  },
  {
   "cell_type": "code",
   "execution_count": 102,
   "metadata": {},
   "outputs": [
    {
     "data": {
      "text/html": [
       "<div>\n",
       "<style scoped>\n",
       "    .dataframe tbody tr th:only-of-type {\n",
       "        vertical-align: middle;\n",
       "    }\n",
       "\n",
       "    .dataframe tbody tr th {\n",
       "        vertical-align: top;\n",
       "    }\n",
       "\n",
       "    .dataframe thead th {\n",
       "        text-align: right;\n",
       "    }\n",
       "</style>\n",
       "<table border=\"1\" class=\"dataframe\">\n",
       "  <thead>\n",
       "    <tr style=\"text-align: right;\">\n",
       "      <th></th>\n",
       "      <th>gid</th>\n",
       "      <th>Censo</th>\n",
       "      <th>PIB</th>\n",
       "      <th>Pop_est_2009</th>\n",
       "      <th>PIB_percapita</th>\n",
       "      <th>classe</th>\n",
       "    </tr>\n",
       "  </thead>\n",
       "  <tbody>\n",
       "    <tr>\n",
       "      <th>count</th>\n",
       "      <td>5566.000000</td>\n",
       "      <td>5560.000000</td>\n",
       "      <td>5.566000e+03</td>\n",
       "      <td>5.566000e+03</td>\n",
       "      <td>5566.000000</td>\n",
       "      <td>5566.000000</td>\n",
       "    </tr>\n",
       "    <tr>\n",
       "      <th>mean</th>\n",
       "      <td>2785.319080</td>\n",
       "      <td>2009.997302</td>\n",
       "      <td>5.820203e+05</td>\n",
       "      <td>3.440557e+04</td>\n",
       "      <td>10977.027151</td>\n",
       "      <td>1.521380</td>\n",
       "    </tr>\n",
       "    <tr>\n",
       "      <th>std</th>\n",
       "      <td>1607.194063</td>\n",
       "      <td>0.089932</td>\n",
       "      <td>6.345809e+06</td>\n",
       "      <td>2.017854e+05</td>\n",
       "      <td>12149.589184</td>\n",
       "      <td>0.671183</td>\n",
       "    </tr>\n",
       "    <tr>\n",
       "      <th>min</th>\n",
       "      <td>1.000000</td>\n",
       "      <td>2007.000000</td>\n",
       "      <td>5.770282e+03</td>\n",
       "      <td>8.370000e+02</td>\n",
       "      <td>1929.969971</td>\n",
       "      <td>1.000000</td>\n",
       "    </tr>\n",
       "    <tr>\n",
       "      <th>25%</th>\n",
       "      <td>1394.250000</td>\n",
       "      <td>2010.000000</td>\n",
       "      <td>3.842817e+04</td>\n",
       "      <td>5.339250e+03</td>\n",
       "      <td>4517.802368</td>\n",
       "      <td>1.000000</td>\n",
       "    </tr>\n",
       "    <tr>\n",
       "      <th>50%</th>\n",
       "      <td>2785.500000</td>\n",
       "      <td>2010.000000</td>\n",
       "      <td>8.059172e+04</td>\n",
       "      <td>1.120300e+04</td>\n",
       "      <td>8393.169922</td>\n",
       "      <td>1.000000</td>\n",
       "    </tr>\n",
       "    <tr>\n",
       "      <th>75%</th>\n",
       "      <td>4176.750000</td>\n",
       "      <td>2010.000000</td>\n",
       "      <td>2.062760e+05</td>\n",
       "      <td>2.325275e+04</td>\n",
       "      <td>13314.827637</td>\n",
       "      <td>2.000000</td>\n",
       "    </tr>\n",
       "    <tr>\n",
       "      <th>max</th>\n",
       "      <td>5568.000000</td>\n",
       "      <td>2010.000000</td>\n",
       "      <td>3.893172e+08</td>\n",
       "      <td>1.103759e+07</td>\n",
       "      <td>360815.843750</td>\n",
       "      <td>5.000000</td>\n",
       "    </tr>\n",
       "  </tbody>\n",
       "</table>\n",
       "</div>"
      ],
      "text/plain": [
       "               gid        Censo           PIB  Pop_est_2009  PIB_percapita  \\\n",
       "count  5566.000000  5560.000000  5.566000e+03  5.566000e+03    5566.000000   \n",
       "mean   2785.319080  2009.997302  5.820203e+05  3.440557e+04   10977.027151   \n",
       "std    1607.194063     0.089932  6.345809e+06  2.017854e+05   12149.589184   \n",
       "min       1.000000  2007.000000  5.770282e+03  8.370000e+02    1929.969971   \n",
       "25%    1394.250000  2010.000000  3.842817e+04  5.339250e+03    4517.802368   \n",
       "50%    2785.500000  2010.000000  8.059172e+04  1.120300e+04    8393.169922   \n",
       "75%    4176.750000  2010.000000  2.062760e+05  2.325275e+04   13314.827637   \n",
       "max    5568.000000  2010.000000  3.893172e+08  1.103759e+07  360815.843750   \n",
       "\n",
       "            classe  \n",
       "count  5566.000000  \n",
       "mean      1.521380  \n",
       "std       0.671183  \n",
       "min       1.000000  \n",
       "25%       1.000000  \n",
       "50%       1.000000  \n",
       "75%       2.000000  \n",
       "max       5.000000  "
      ]
     },
     "execution_count": 102,
     "metadata": {},
     "output_type": "execute_result"
    }
   ],
   "source": [
    "pib.describe()"
   ]
  },
  {
   "cell_type": "code",
   "execution_count": 12,
   "metadata": {},
   "outputs": [
    {
     "data": {
      "text/html": [
       "<div>\n",
       "<style scoped>\n",
       "    .dataframe tbody tr th:only-of-type {\n",
       "        vertical-align: middle;\n",
       "    }\n",
       "\n",
       "    .dataframe tbody tr th {\n",
       "        vertical-align: top;\n",
       "    }\n",
       "\n",
       "    .dataframe thead th {\n",
       "        text-align: right;\n",
       "    }\n",
       "</style>\n",
       "<table border=\"1\" class=\"dataframe\">\n",
       "  <thead>\n",
       "    <tr style=\"text-align: right;\">\n",
       "      <th></th>\n",
       "      <th>FID</th>\n",
       "      <th>gid</th>\n",
       "      <th>UF</th>\n",
       "      <th>nome</th>\n",
       "      <th>Censo</th>\n",
       "      <th>PIB</th>\n",
       "      <th>Pop_est_2009</th>\n",
       "      <th>PIB_percapita</th>\n",
       "      <th>Descrição</th>\n",
       "      <th>legenda</th>\n",
       "      <th>classe</th>\n",
       "      <th>geom</th>\n",
       "    </tr>\n",
       "  </thead>\n",
       "  <tbody>\n",
       "    <tr>\n",
       "      <th>0</th>\n",
       "      <td>vw_pib_percapita.fid--294ffe0d_1762f576cd7_-3e07</td>\n",
       "      <td>215</td>\n",
       "      <td>BAHIA</td>\n",
       "      <td>Tremedal</td>\n",
       "      <td>2010.0</td>\n",
       "      <td>5.788399e+04</td>\n",
       "      <td>18433</td>\n",
       "      <td>3140.239990</td>\n",
       "      <td>Produto Interno Bruto per capita</td>\n",
       "      <td>- 9639.65</td>\n",
       "      <td>1</td>\n",
       "      <td>MULTIPOLYGON (((-41.458803305191566 -14.781415...</td>\n",
       "    </tr>\n",
       "    <tr>\n",
       "      <th>1</th>\n",
       "      <td>vw_pib_percapita.fid--294ffe0d_1762f576cd7_-3e06</td>\n",
       "      <td>306</td>\n",
       "      <td>RIO GRANDE DO SUL</td>\n",
       "      <td>Turuçu</td>\n",
       "      <td>2010.0</td>\n",
       "      <td>4.572388e+04</td>\n",
       "      <td>4000</td>\n",
       "      <td>11430.969727</td>\n",
       "      <td>Produto Interno Bruto per capita</td>\n",
       "      <td>9639.65 - 22144.80</td>\n",
       "      <td>2</td>\n",
       "      <td>MULTIPOLYGON (((-52.035349932081274 -31.567509...</td>\n",
       "    </tr>\n",
       "    <tr>\n",
       "      <th>2</th>\n",
       "      <td>vw_pib_percapita.fid--294ffe0d_1762f576cd7_-3e05</td>\n",
       "      <td>900</td>\n",
       "      <td>ESPIRITO SANTO</td>\n",
       "      <td>Vitória</td>\n",
       "      <td>2010.0</td>\n",
       "      <td>1.978263e+07</td>\n",
       "      <td>320156</td>\n",
       "      <td>61790.589844</td>\n",
       "      <td>Produto Interno Bruto per capita</td>\n",
       "      <td>52702.10 - 133669.00</td>\n",
       "      <td>4</td>\n",
       "      <td>MULTIPOLYGON (((-40.3292566978242 -20.23997417...</td>\n",
       "    </tr>\n",
       "    <tr>\n",
       "      <th>3</th>\n",
       "      <td>vw_pib_percapita.fid--294ffe0d_1762f576cd7_-3e04</td>\n",
       "      <td>3613</td>\n",
       "      <td>MINAS GERAIS</td>\n",
       "      <td>Jacutinga</td>\n",
       "      <td>2010.0</td>\n",
       "      <td>2.478160e+05</td>\n",
       "      <td>21424</td>\n",
       "      <td>11567.209961</td>\n",
       "      <td>Produto Interno Bruto per capita</td>\n",
       "      <td>9639.65 - 22144.80</td>\n",
       "      <td>2</td>\n",
       "      <td>MULTIPOLYGON (((-46.50528160015326 -22.3400120...</td>\n",
       "    </tr>\n",
       "    <tr>\n",
       "      <th>4</th>\n",
       "      <td>vw_pib_percapita.fid--294ffe0d_1762f576cd7_-3e03</td>\n",
       "      <td>1028</td>\n",
       "      <td>PIAUÍ</td>\n",
       "      <td>Nazária</td>\n",
       "      <td>2010.0</td>\n",
       "      <td>2.095138e+04</td>\n",
       "      <td>7895</td>\n",
       "      <td>2653.750000</td>\n",
       "      <td>Produto Interno Bruto per capita</td>\n",
       "      <td>- 9639.65</td>\n",
       "      <td>1</td>\n",
       "      <td>POLYGON ((-42.826685407155495 -5.3480291684437...</td>\n",
       "    </tr>\n",
       "  </tbody>\n",
       "</table>\n",
       "</div>"
      ],
      "text/plain": [
       "                                                FID   gid                 UF  \\\n",
       "0  vw_pib_percapita.fid--294ffe0d_1762f576cd7_-3e07   215              BAHIA   \n",
       "1  vw_pib_percapita.fid--294ffe0d_1762f576cd7_-3e06   306  RIO GRANDE DO SUL   \n",
       "2  vw_pib_percapita.fid--294ffe0d_1762f576cd7_-3e05   900     ESPIRITO SANTO   \n",
       "3  vw_pib_percapita.fid--294ffe0d_1762f576cd7_-3e04  3613       MINAS GERAIS   \n",
       "4  vw_pib_percapita.fid--294ffe0d_1762f576cd7_-3e03  1028              PIAUÍ   \n",
       "\n",
       "        nome   Censo           PIB  Pop_est_2009  PIB_percapita  \\\n",
       "0   Tremedal  2010.0  5.788399e+04         18433    3140.239990   \n",
       "1     Turuçu  2010.0  4.572388e+04          4000   11430.969727   \n",
       "2    Vitória  2010.0  1.978263e+07        320156   61790.589844   \n",
       "3  Jacutinga  2010.0  2.478160e+05         21424   11567.209961   \n",
       "4    Nazária  2010.0  2.095138e+04          7895    2653.750000   \n",
       "\n",
       "                          Descrição               legenda  classe  \\\n",
       "0  Produto Interno Bruto per capita             - 9639.65       1   \n",
       "1  Produto Interno Bruto per capita    9639.65 - 22144.80       2   \n",
       "2  Produto Interno Bruto per capita  52702.10 - 133669.00       4   \n",
       "3  Produto Interno Bruto per capita    9639.65 - 22144.80       2   \n",
       "4  Produto Interno Bruto per capita             - 9639.65       1   \n",
       "\n",
       "                                                geom  \n",
       "0  MULTIPOLYGON (((-41.458803305191566 -14.781415...  \n",
       "1  MULTIPOLYGON (((-52.035349932081274 -31.567509...  \n",
       "2  MULTIPOLYGON (((-40.3292566978242 -20.23997417...  \n",
       "3  MULTIPOLYGON (((-46.50528160015326 -22.3400120...  \n",
       "4  POLYGON ((-42.826685407155495 -5.3480291684437...  "
      ]
     },
     "execution_count": 12,
     "metadata": {},
     "output_type": "execute_result"
    }
   ],
   "source": [
    "pib.head()"
   ]
  },
  {
   "cell_type": "markdown",
   "metadata": {},
   "source": [
    "<h2><b>Criando uma nova lista com municipios do Amazonas</b></h2>"
   ]
  },
  {
   "cell_type": "code",
   "execution_count": 13,
   "metadata": {},
   "outputs": [],
   "source": [
    "Amazonas = pib[pib['UF']=='AMAZONAS']"
   ]
  },
  {
   "cell_type": "markdown",
   "metadata": {},
   "source": [
    "<h2><b>Detalhes e tempo de execução da nova lista 'Amazonas'</b></h2>"
   ]
  },
  {
   "cell_type": "code",
   "execution_count": 14,
   "metadata": {
    "scrolled": false
   },
   "outputs": [
    {
     "name": "stdout",
     "output_type": "stream",
     "text": [
      "31.7 µs ± 1.49 µs per loop (mean ± std. dev. of 7 runs, 10000 loops each)\n"
     ]
    }
   ],
   "source": [
    "%%timeit\n",
    "Amazonas.head()"
   ]
  },
  {
   "cell_type": "code",
   "execution_count": 103,
   "metadata": {},
   "outputs": [
    {
     "data": {
      "text/html": [
       "<div>\n",
       "<style scoped>\n",
       "    .dataframe tbody tr th:only-of-type {\n",
       "        vertical-align: middle;\n",
       "    }\n",
       "\n",
       "    .dataframe tbody tr th {\n",
       "        vertical-align: top;\n",
       "    }\n",
       "\n",
       "    .dataframe thead th {\n",
       "        text-align: right;\n",
       "    }\n",
       "</style>\n",
       "<table border=\"1\" class=\"dataframe\">\n",
       "  <thead>\n",
       "    <tr style=\"text-align: right;\">\n",
       "      <th></th>\n",
       "      <th>gid</th>\n",
       "      <th>Censo</th>\n",
       "      <th>PIB</th>\n",
       "      <th>Pop_est_2009</th>\n",
       "      <th>PIB_percapita</th>\n",
       "      <th>classe</th>\n",
       "    </tr>\n",
       "  </thead>\n",
       "  <tbody>\n",
       "    <tr>\n",
       "      <th>count</th>\n",
       "      <td>62.000000</td>\n",
       "      <td>62.0</td>\n",
       "      <td>6.200000e+01</td>\n",
       "      <td>6.200000e+01</td>\n",
       "      <td>62.000000</td>\n",
       "      <td>62.000000</td>\n",
       "    </tr>\n",
       "    <tr>\n",
       "      <th>mean</th>\n",
       "      <td>3805.048387</td>\n",
       "      <td>2010.0</td>\n",
       "      <td>8.002299e+05</td>\n",
       "      <td>5.473176e+04</td>\n",
       "      <td>5313.389857</td>\n",
       "      <td>1.096774</td>\n",
       "    </tr>\n",
       "    <tr>\n",
       "      <th>std</th>\n",
       "      <td>2117.617440</td>\n",
       "      <td>0.0</td>\n",
       "      <td>5.126052e+06</td>\n",
       "      <td>2.182993e+05</td>\n",
       "      <td>3231.521077</td>\n",
       "      <td>0.348753</td>\n",
       "    </tr>\n",
       "    <tr>\n",
       "      <th>min</th>\n",
       "      <td>333.000000</td>\n",
       "      <td>2010.0</td>\n",
       "      <td>2.553471e+04</td>\n",
       "      <td>4.238000e+03</td>\n",
       "      <td>3058.530029</td>\n",
       "      <td>1.000000</td>\n",
       "    </tr>\n",
       "    <tr>\n",
       "      <th>25%</th>\n",
       "      <td>1007.250000</td>\n",
       "      <td>2010.0</td>\n",
       "      <td>6.433352e+04</td>\n",
       "      <td>1.479400e+04</td>\n",
       "      <td>3880.804932</td>\n",
       "      <td>1.000000</td>\n",
       "    </tr>\n",
       "    <tr>\n",
       "      <th>50%</th>\n",
       "      <td>4957.500000</td>\n",
       "      <td>2010.0</td>\n",
       "      <td>8.683979e+04</td>\n",
       "      <td>1.949750e+04</td>\n",
       "      <td>4395.375000</td>\n",
       "      <td>1.000000</td>\n",
       "    </tr>\n",
       "    <tr>\n",
       "      <th>75%</th>\n",
       "      <td>5503.750000</td>\n",
       "      <td>2010.0</td>\n",
       "      <td>1.490649e+05</td>\n",
       "      <td>3.231550e+04</td>\n",
       "      <td>5157.244995</td>\n",
       "      <td>1.000000</td>\n",
       "    </tr>\n",
       "    <tr>\n",
       "      <th>max</th>\n",
       "      <td>5563.000000</td>\n",
       "      <td>2010.0</td>\n",
       "      <td>4.048611e+07</td>\n",
       "      <td>1.738641e+06</td>\n",
       "      <td>23286.060547</td>\n",
       "      <td>3.000000</td>\n",
       "    </tr>\n",
       "  </tbody>\n",
       "</table>\n",
       "</div>"
      ],
      "text/plain": [
       "               gid   Censo           PIB  Pop_est_2009  PIB_percapita  \\\n",
       "count    62.000000    62.0  6.200000e+01  6.200000e+01      62.000000   \n",
       "mean   3805.048387  2010.0  8.002299e+05  5.473176e+04    5313.389857   \n",
       "std    2117.617440     0.0  5.126052e+06  2.182993e+05    3231.521077   \n",
       "min     333.000000  2010.0  2.553471e+04  4.238000e+03    3058.530029   \n",
       "25%    1007.250000  2010.0  6.433352e+04  1.479400e+04    3880.804932   \n",
       "50%    4957.500000  2010.0  8.683979e+04  1.949750e+04    4395.375000   \n",
       "75%    5503.750000  2010.0  1.490649e+05  3.231550e+04    5157.244995   \n",
       "max    5563.000000  2010.0  4.048611e+07  1.738641e+06   23286.060547   \n",
       "\n",
       "          classe  \n",
       "count  62.000000  \n",
       "mean    1.096774  \n",
       "std     0.348753  \n",
       "min     1.000000  \n",
       "25%     1.000000  \n",
       "50%     1.000000  \n",
       "75%     1.000000  \n",
       "max     3.000000  "
      ]
     },
     "execution_count": 103,
     "metadata": {},
     "output_type": "execute_result"
    }
   ],
   "source": [
    "Amazonas.describe()"
   ]
  },
  {
   "cell_type": "code",
   "execution_count": 88,
   "metadata": {},
   "outputs": [
    {
     "data": {
      "text/plain": [
       "(62, 12)"
      ]
     },
     "execution_count": 88,
     "metadata": {},
     "output_type": "execute_result"
    }
   ],
   "source": [
    "Amazonas.shape"
   ]
  },
  {
   "cell_type": "code",
   "execution_count": 15,
   "metadata": {},
   "outputs": [
    {
     "data": {
      "text/html": [
       "<div>\n",
       "<style scoped>\n",
       "    .dataframe tbody tr th:only-of-type {\n",
       "        vertical-align: middle;\n",
       "    }\n",
       "\n",
       "    .dataframe tbody tr th {\n",
       "        vertical-align: top;\n",
       "    }\n",
       "\n",
       "    .dataframe thead th {\n",
       "        text-align: right;\n",
       "    }\n",
       "</style>\n",
       "<table border=\"1\" class=\"dataframe\">\n",
       "  <thead>\n",
       "    <tr style=\"text-align: right;\">\n",
       "      <th></th>\n",
       "      <th>FID</th>\n",
       "      <th>gid</th>\n",
       "      <th>UF</th>\n",
       "      <th>nome</th>\n",
       "      <th>Censo</th>\n",
       "      <th>PIB</th>\n",
       "      <th>Pop_est_2009</th>\n",
       "      <th>PIB_percapita</th>\n",
       "      <th>Descrição</th>\n",
       "      <th>legenda</th>\n",
       "      <th>classe</th>\n",
       "      <th>geom</th>\n",
       "    </tr>\n",
       "  </thead>\n",
       "  <tbody>\n",
       "    <tr>\n",
       "      <th>19</th>\n",
       "      <td>vw_pib_percapita.fid--294ffe0d_1762f576cd7_-3df4</td>\n",
       "      <td>1008</td>\n",
       "      <td>AMAZONAS</td>\n",
       "      <td>Envira</td>\n",
       "      <td>2010.0</td>\n",
       "      <td>6.984303e+04</td>\n",
       "      <td>17614</td>\n",
       "      <td>3965.199951</td>\n",
       "      <td>Produto Interno Bruto per capita</td>\n",
       "      <td>- 9639.65</td>\n",
       "      <td>1</td>\n",
       "      <td>MULTIPOLYGON (((-70.02819609918372 -7.17427341...</td>\n",
       "    </tr>\n",
       "    <tr>\n",
       "      <th>304</th>\n",
       "      <td>vw_pib_percapita.fid--294ffe0d_1762f576cd7_-3cd7</td>\n",
       "      <td>4951</td>\n",
       "      <td>AMAZONAS</td>\n",
       "      <td>Nova Olinda do Norte</td>\n",
       "      <td>2010.0</td>\n",
       "      <td>1.087833e+05</td>\n",
       "      <td>31012</td>\n",
       "      <td>3507.780029</td>\n",
       "      <td>Produto Interno Bruto per capita</td>\n",
       "      <td>- 9639.65</td>\n",
       "      <td>1</td>\n",
       "      <td>MULTIPOLYGON (((-58.91700100659026 -3.59637154...</td>\n",
       "    </tr>\n",
       "    <tr>\n",
       "      <th>333</th>\n",
       "      <td>vw_pib_percapita.fid--294ffe0d_1762f576cd7_-3cba</td>\n",
       "      <td>1572</td>\n",
       "      <td>AMAZONAS</td>\n",
       "      <td>Manaus</td>\n",
       "      <td>2010.0</td>\n",
       "      <td>4.048611e+07</td>\n",
       "      <td>1738641</td>\n",
       "      <td>23286.060547</td>\n",
       "      <td>Produto Interno Bruto per capita</td>\n",
       "      <td>22144.80 - 52702.10</td>\n",
       "      <td>3</td>\n",
       "      <td>MULTIPOLYGON (((-60.001611142130734 -2.1191118...</td>\n",
       "    </tr>\n",
       "    <tr>\n",
       "      <th>730</th>\n",
       "      <td>vw_pib_percapita.fid--294ffe0d_1762f576cd7_-3b2d</td>\n",
       "      <td>5498</td>\n",
       "      <td>AMAZONAS</td>\n",
       "      <td>Rio Preto da Eva</td>\n",
       "      <td>2010.0</td>\n",
       "      <td>2.162355e+05</td>\n",
       "      <td>26847</td>\n",
       "      <td>8054.370117</td>\n",
       "      <td>Produto Interno Bruto per capita</td>\n",
       "      <td>- 9639.65</td>\n",
       "      <td>1</td>\n",
       "      <td>MULTIPOLYGON (((-59.27629587949635 -2.47974507...</td>\n",
       "    </tr>\n",
       "    <tr>\n",
       "      <th>800</th>\n",
       "      <td>vw_pib_percapita.fid--294ffe0d_1762f576cd7_-3ae7</td>\n",
       "      <td>5504</td>\n",
       "      <td>AMAZONAS</td>\n",
       "      <td>Coari</td>\n",
       "      <td>2010.0</td>\n",
       "      <td>1.103350e+06</td>\n",
       "      <td>66991</td>\n",
       "      <td>16470.119141</td>\n",
       "      <td>Produto Interno Bruto per capita</td>\n",
       "      <td>9639.65 - 22144.80</td>\n",
       "      <td>2</td>\n",
       "      <td>MULTIPOLYGON (((-64.36668555555553 -2.26476222...</td>\n",
       "    </tr>\n",
       "  </tbody>\n",
       "</table>\n",
       "</div>"
      ],
      "text/plain": [
       "                                                  FID   gid        UF  \\\n",
       "19   vw_pib_percapita.fid--294ffe0d_1762f576cd7_-3df4  1008  AMAZONAS   \n",
       "304  vw_pib_percapita.fid--294ffe0d_1762f576cd7_-3cd7  4951  AMAZONAS   \n",
       "333  vw_pib_percapita.fid--294ffe0d_1762f576cd7_-3cba  1572  AMAZONAS   \n",
       "730  vw_pib_percapita.fid--294ffe0d_1762f576cd7_-3b2d  5498  AMAZONAS   \n",
       "800  vw_pib_percapita.fid--294ffe0d_1762f576cd7_-3ae7  5504  AMAZONAS   \n",
       "\n",
       "                     nome   Censo           PIB  Pop_est_2009  PIB_percapita  \\\n",
       "19                 Envira  2010.0  6.984303e+04         17614    3965.199951   \n",
       "304  Nova Olinda do Norte  2010.0  1.087833e+05         31012    3507.780029   \n",
       "333                Manaus  2010.0  4.048611e+07       1738641   23286.060547   \n",
       "730      Rio Preto da Eva  2010.0  2.162355e+05         26847    8054.370117   \n",
       "800                 Coari  2010.0  1.103350e+06         66991   16470.119141   \n",
       "\n",
       "                            Descrição              legenda  classe  \\\n",
       "19   Produto Interno Bruto per capita            - 9639.65       1   \n",
       "304  Produto Interno Bruto per capita            - 9639.65       1   \n",
       "333  Produto Interno Bruto per capita  22144.80 - 52702.10       3   \n",
       "730  Produto Interno Bruto per capita            - 9639.65       1   \n",
       "800  Produto Interno Bruto per capita   9639.65 - 22144.80       2   \n",
       "\n",
       "                                                  geom  \n",
       "19   MULTIPOLYGON (((-70.02819609918372 -7.17427341...  \n",
       "304  MULTIPOLYGON (((-58.91700100659026 -3.59637154...  \n",
       "333  MULTIPOLYGON (((-60.001611142130734 -2.1191118...  \n",
       "730  MULTIPOLYGON (((-59.27629587949635 -2.47974507...  \n",
       "800  MULTIPOLYGON (((-64.36668555555553 -2.26476222...  "
      ]
     },
     "execution_count": 15,
     "metadata": {},
     "output_type": "execute_result"
    }
   ],
   "source": [
    "Amazonas.head()"
   ]
  },
  {
   "cell_type": "markdown",
   "metadata": {},
   "source": [
    "<h2><b>Listando apenas os títulos das colunas</b></h2>"
   ]
  },
  {
   "cell_type": "code",
   "execution_count": 16,
   "metadata": {},
   "outputs": [
    {
     "data": {
      "text/plain": [
       "array(['FID', 'gid', 'UF', 'nome', 'Censo', 'PIB', 'Pop_est_2009',\n",
       "       'PIB_percapita', 'Descrição', 'legenda', 'classe', 'geom'],\n",
       "      dtype=object)"
      ]
     },
     "execution_count": 16,
     "metadata": {},
     "output_type": "execute_result"
    }
   ],
   "source": [
    "Amazonas.columns.values"
   ]
  },
  {
   "cell_type": "markdown",
   "metadata": {},
   "source": [
    "<h2><b>Listando o municípios do Amazonas</b></h2>"
   ]
  },
  {
   "cell_type": "code",
   "execution_count": 17,
   "metadata": {},
   "outputs": [
    {
     "data": {
      "text/plain": [
       "['Alvarães',\n",
       " 'Amaturá',\n",
       " 'Anamã',\n",
       " 'Anori',\n",
       " 'Apuí',\n",
       " 'Atalaia do Norte',\n",
       " 'Autazes',\n",
       " 'Barcelos',\n",
       " 'Barreirinha',\n",
       " 'Benjamin Constant',\n",
       " 'Beruri',\n",
       " 'Boa Vista do Ramos',\n",
       " 'Boca do Acre',\n",
       " 'Borba',\n",
       " 'Caapiranga',\n",
       " 'Canutama',\n",
       " 'Carauari',\n",
       " 'Careiro',\n",
       " 'Careiro da Várzea',\n",
       " 'Coari',\n",
       " 'Codajás',\n",
       " 'Eirunepé',\n",
       " 'Envira',\n",
       " 'Fonte Boa',\n",
       " 'Guajará',\n",
       " 'Humaitá',\n",
       " 'Ipixuna',\n",
       " 'Iranduba',\n",
       " 'Itacoatiara',\n",
       " 'Itamarati',\n",
       " 'Itapiranga',\n",
       " 'Japurá',\n",
       " 'Juruá',\n",
       " 'Jutaí',\n",
       " 'Lábrea',\n",
       " 'Manacapuru',\n",
       " 'Manaquiri',\n",
       " 'Manaus',\n",
       " 'Manicoré',\n",
       " 'Maraã',\n",
       " 'Maués',\n",
       " 'Nhamundá',\n",
       " 'Nova Olinda do Norte',\n",
       " 'Novo Airão',\n",
       " 'Novo Aripuanã',\n",
       " 'Parintins',\n",
       " 'Pauini',\n",
       " 'Presidente Figueiredo',\n",
       " 'Rio Preto da Eva',\n",
       " 'Santa Isabel do Rio Negro',\n",
       " 'Santo Antônio do Içá',\n",
       " 'Silves',\n",
       " 'São Gabriel da Cachoeira',\n",
       " 'São Paulo de Olivença',\n",
       " 'São Sebastião do Uatumã',\n",
       " 'Tabatinga',\n",
       " 'Tapauá',\n",
       " 'Tefé',\n",
       " 'Tonantins',\n",
       " 'Uarini',\n",
       " 'Urucará',\n",
       " 'Urucurituba']"
      ]
     },
     "execution_count": 17,
     "metadata": {},
     "output_type": "execute_result"
    }
   ],
   "source": [
    "sorted(Amazonas['nome'].unique())"
   ]
  },
  {
   "cell_type": "markdown",
   "metadata": {},
   "source": [
    "<h2><b>Criando uma lista mostrando a comparação do PIB por município em orde crescente</b></h2>"
   ]
  },
  {
   "cell_type": "code",
   "execution_count": 29,
   "metadata": {},
   "outputs": [],
   "source": [
    "lista = Amazonas[['nome','PIB_percapita']].sort_values('PIB_percapita')"
   ]
  },
  {
   "cell_type": "code",
   "execution_count": 32,
   "metadata": {},
   "outputs": [
    {
     "data": {
      "text/html": [
       "<div>\n",
       "<style scoped>\n",
       "    .dataframe tbody tr th:only-of-type {\n",
       "        vertical-align: middle;\n",
       "    }\n",
       "\n",
       "    .dataframe tbody tr th {\n",
       "        vertical-align: top;\n",
       "    }\n",
       "\n",
       "    .dataframe thead th {\n",
       "        text-align: right;\n",
       "    }\n",
       "</style>\n",
       "<table border=\"1\" class=\"dataframe\">\n",
       "  <thead>\n",
       "    <tr style=\"text-align: right;\">\n",
       "      <th></th>\n",
       "      <th>nome</th>\n",
       "      <th>PIB_percapita</th>\n",
       "    </tr>\n",
       "  </thead>\n",
       "  <tbody>\n",
       "    <tr>\n",
       "      <th>5340</th>\n",
       "      <td>Barcelos</td>\n",
       "      <td>3058.530029</td>\n",
       "    </tr>\n",
       "    <tr>\n",
       "      <th>5003</th>\n",
       "      <td>Santa Isabel do Rio Negro</td>\n",
       "      <td>3077.139893</td>\n",
       "    </tr>\n",
       "    <tr>\n",
       "      <th>4565</th>\n",
       "      <td>Santo Antônio do Içá</td>\n",
       "      <td>3097.530029</td>\n",
       "    </tr>\n",
       "    <tr>\n",
       "      <th>1740</th>\n",
       "      <td>Tonantins</td>\n",
       "      <td>3310.310059</td>\n",
       "    </tr>\n",
       "    <tr>\n",
       "      <th>3435</th>\n",
       "      <td>São Paulo de Olivença</td>\n",
       "      <td>3317.840088</td>\n",
       "    </tr>\n",
       "    <tr>\n",
       "      <th>304</th>\n",
       "      <td>Nova Olinda do Norte</td>\n",
       "      <td>3507.780029</td>\n",
       "    </tr>\n",
       "    <tr>\n",
       "      <th>4750</th>\n",
       "      <td>São Sebastião do Uatumã</td>\n",
       "      <td>3557.439941</td>\n",
       "    </tr>\n",
       "    <tr>\n",
       "      <th>5459</th>\n",
       "      <td>Barreirinha</td>\n",
       "      <td>3595.510010</td>\n",
       "    </tr>\n",
       "    <tr>\n",
       "      <th>3051</th>\n",
       "      <td>Careiro</td>\n",
       "      <td>3609.370117</td>\n",
       "    </tr>\n",
       "    <tr>\n",
       "      <th>3241</th>\n",
       "      <td>Pauini</td>\n",
       "      <td>3641.699951</td>\n",
       "    </tr>\n",
       "  </tbody>\n",
       "</table>\n",
       "</div>"
      ],
      "text/plain": [
       "                           nome  PIB_percapita\n",
       "5340                   Barcelos    3058.530029\n",
       "5003  Santa Isabel do Rio Negro    3077.139893\n",
       "4565       Santo Antônio do Içá    3097.530029\n",
       "1740                  Tonantins    3310.310059\n",
       "3435      São Paulo de Olivença    3317.840088\n",
       "304        Nova Olinda do Norte    3507.780029\n",
       "4750    São Sebastião do Uatumã    3557.439941\n",
       "5459                Barreirinha    3595.510010\n",
       "3051                    Careiro    3609.370117\n",
       "3241                     Pauini    3641.699951"
      ]
     },
     "execution_count": 32,
     "metadata": {},
     "output_type": "execute_result"
    }
   ],
   "source": [
    "lista.head(10)"
   ]
  },
  {
   "cell_type": "code",
   "execution_count": 98,
   "metadata": {},
   "outputs": [],
   "source": [
    "total = 'R$ {}'.format(sum(lista.PIB_percapita))"
   ]
  },
  {
   "cell_type": "code",
   "execution_count": 100,
   "metadata": {},
   "outputs": [
    {
     "name": "stdout",
     "output_type": "stream",
     "text": [
      "R$ 329430.1711426\n"
     ]
    }
   ],
   "source": [
    "print(total)"
   ]
  },
  {
   "cell_type": "markdown",
   "metadata": {},
   "source": [
    "<h2><b>Gráfico mostrando em ordem crescente municipios com maiores rendas percapita</b></h2>"
   ]
  },
  {
   "cell_type": "code",
   "execution_count": 44,
   "metadata": {
    "scrolled": true
   },
   "outputs": [
    {
     "data": {
      "image/png": "[encoded data removed]",
      "text/plain": [
       "<Figure size 1296x576 with 1 Axes>"
      ]
     },
     "metadata": {
      "needs_background": "light"
     },
     "output_type": "display_data"
    }
   ],
   "source": [
    "ax = lista[['PIB_percapita']].plot(figsize=(18,8), kind='bar')\n",
    "ax.set_xticklabels(lista['nome'])\n",
    "plt.title('PIB 2010')\n",
    "plt.xlabel('Municipios do Amazonas')\n",
    "plt.ylabel('Milhares')\n",
    "plt.show()"
   ]
  },
  {
   "cell_type": "markdown",
   "metadata": {},
   "source": [
    "<h2><b>Criando uma lista de pessoas registradas em 2009 de cada município em ordem crescente</b></h2>"
   ]
  },
  {
   "cell_type": "code",
   "execution_count": 53,
   "metadata": {},
   "outputs": [],
   "source": [
    "populacao = Amazonas[['nome','Pop_est_2009']].sort_values('Pop_est_2009')"
   ]
  },
  {
   "cell_type": "code",
   "execution_count": 71,
   "metadata": {},
   "outputs": [
    {
     "data": {
      "text/html": [
       "<div>\n",
       "<style scoped>\n",
       "    .dataframe tbody tr th:only-of-type {\n",
       "        vertical-align: middle;\n",
       "    }\n",
       "\n",
       "    .dataframe tbody tr th {\n",
       "        vertical-align: top;\n",
       "    }\n",
       "\n",
       "    .dataframe thead th {\n",
       "        text-align: right;\n",
       "    }\n",
       "</style>\n",
       "<table border=\"1\" class=\"dataframe\">\n",
       "  <thead>\n",
       "    <tr style=\"text-align: right;\">\n",
       "      <th></th>\n",
       "      <th>nome</th>\n",
       "      <th>Pop_est_2009</th>\n",
       "    </tr>\n",
       "  </thead>\n",
       "  <tbody>\n",
       "    <tr>\n",
       "      <th>4109</th>\n",
       "      <td>Japurá</td>\n",
       "      <td>4238</td>\n",
       "    </tr>\n",
       "    <tr>\n",
       "      <th>1341</th>\n",
       "      <td>Itamarati</td>\n",
       "      <td>8281</td>\n",
       "    </tr>\n",
       "    <tr>\n",
       "      <th>4215</th>\n",
       "      <td>Silves</td>\n",
       "      <td>8543</td>\n",
       "    </tr>\n",
       "    <tr>\n",
       "      <th>1281</th>\n",
       "      <td>Anamã</td>\n",
       "      <td>8673</td>\n",
       "    </tr>\n",
       "    <tr>\n",
       "      <th>2761</th>\n",
       "      <td>Amaturá</td>\n",
       "      <td>8828</td>\n",
       "    </tr>\n",
       "    <tr>\n",
       "      <th>...</th>\n",
       "      <td>...</td>\n",
       "      <td>...</td>\n",
       "    </tr>\n",
       "    <tr>\n",
       "      <th>800</th>\n",
       "      <td>Coari</td>\n",
       "      <td>66991</td>\n",
       "    </tr>\n",
       "    <tr>\n",
       "      <th>4234</th>\n",
       "      <td>Manacapuru</td>\n",
       "      <td>86472</td>\n",
       "    </tr>\n",
       "    <tr>\n",
       "      <th>2633</th>\n",
       "      <td>Itacoatiara</td>\n",
       "      <td>89440</td>\n",
       "    </tr>\n",
       "    <tr>\n",
       "      <th>5349</th>\n",
       "      <td>Parintins</td>\n",
       "      <td>107250</td>\n",
       "    </tr>\n",
       "    <tr>\n",
       "      <th>333</th>\n",
       "      <td>Manaus</td>\n",
       "      <td>1738641</td>\n",
       "    </tr>\n",
       "  </tbody>\n",
       "</table>\n",
       "<p>62 rows × 2 columns</p>\n",
       "</div>"
      ],
      "text/plain": [
       "             nome  Pop_est_2009\n",
       "4109       Japurá          4238\n",
       "1341    Itamarati          8281\n",
       "4215       Silves          8543\n",
       "1281        Anamã          8673\n",
       "2761      Amaturá          8828\n",
       "...           ...           ...\n",
       "800         Coari         66991\n",
       "4234   Manacapuru         86472\n",
       "2633  Itacoatiara         89440\n",
       "5349    Parintins        107250\n",
       "333        Manaus       1738641\n",
       "\n",
       "[62 rows x 2 columns]"
      ]
     },
     "execution_count": 71,
     "metadata": {},
     "output_type": "execute_result"
    }
   ],
   "source": [
    "populacao"
   ]
  },
  {
   "cell_type": "markdown",
   "metadata": {},
   "source": [
    "<h2><b>O município que contém maior população do estado do Amazonas em 2009, Manaus.</b></h2>"
   ]
  },
  {
   "cell_type": "code",
   "execution_count": 133,
   "metadata": {
    "scrolled": true
   },
   "outputs": [
    {
     "data": {
      "image/png": "[encoded data removed]",
      "text/plain": [
       "<Figure size 432x288 with 1 Axes>"
      ]
     },
     "metadata": {},
     "output_type": "display_data"
    }
   ],
   "source": [
    "plt.pie(populacao.Pop_est_2009, labels=populacao.nome, startangle=90)\n",
    "plt.show()"
   ]
  },
  {
   "cell_type": "code",
   "execution_count": null,
   "metadata": {},
   "outputs": [],
   "source": []
  }
 ],
 "metadata": {
  "kernelspec": {
   "display_name": "Python 3",
   "language": "python",
   "name": "python3"
  },
  "language_info": {
   "codemirror_mode": {
    "name": "ipython",
    "version": 3
   },
   "file_extension": ".py",
   "mimetype": "text/x-python",
   "name": "python",
   "nbconvert_exporter": "python",
   "pygments_lexer": "ipython3",
   "version": "3.8.5"
  }
 },
 "nbformat": 4,
 "nbformat_minor": 4
}
